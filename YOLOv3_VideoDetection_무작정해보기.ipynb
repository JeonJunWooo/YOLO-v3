{
  "nbformat": 4,
  "nbformat_minor": 0,
  "metadata": {
    "colab": {
      "provenance": [],
      "collapsed_sections": [],
      "include_colab_link": true
    },
    "kernelspec": {
      "name": "python3",
      "display_name": "Python 3"
    },
    "language_info": {
      "name": "python"
    },
    "accelerator": "GPU"
  },
  "cells": [
    {
      "cell_type": "markdown",
      "metadata": {
        "id": "view-in-github",
        "colab_type": "text"
      },
      "source": [
        "<a href=\"https://colab.research.google.com/github/JeonJunWooo/YOLO-v3/blob/main/YOLOv3_VideoDetection_%EB%AC%B4%EC%9E%91%EC%A0%95%ED%95%B4%EB%B3%B4%EA%B8%B0.ipynb\" target=\"_parent\"><img src=\"https://colab.research.google.com/assets/colab-badge.svg\" alt=\"Open In Colab\"/></a>"
      ]
    },
    {
      "cell_type": "markdown",
      "source": [
        "# UltraLytics YOLO v3 Video Detection 직접하기\n"
      ],
      "metadata": {
        "id": "mSpYwfyhmHtn"
      }
    },
    {
      "cell_type": "markdown",
      "source": [
        "## UltraLytics YOLO v3 설치\n",
        "\n",
        "![install](https://github.com/DrKAI/CV/raw/main/UltraLytics_manual/yolov3_install.png)\n",
        "\n",
        "[Install Page](https://github.com/ultralytics/yolov3#quick-start-examples)"
      ],
      "metadata": {
        "id": "YB6S7Ad-km8I"
      }
    },
    {
      "cell_type": "code",
      "execution_count": null,
      "metadata": {
        "id": "6y5gDSIWjHOA"
      },
      "outputs": [],
      "source": [
        "!git clone https://github.com/ultralytics/yolov3.git"
      ]
    },
    {
      "cell_type": "code",
      "source": [
        "!cd yolov3; pip install -r /content/yolov3/requirements.txt"
      ],
      "metadata": {
        "id": "gUOZ5UasEhKF"
      },
      "execution_count": null,
      "outputs": []
    },
    {
      "cell_type": "markdown",
      "source": [
        "## Video Detection\n",
        "\n",
        "1. 원하는 비디오 다운로드\n",
        "\n",
        "2. COCO Dataset으로 pretrained 된 weights 다운로드\n",
        "    - weights가 없으면 자동 다운로드\n",
        "\n",
        "3. detect.py를 python으로 직접 호출하여 수행"
      ],
      "metadata": {
        "id": "x49tFhjSmbOA"
      }
    },
    {
      "cell_type": "markdown",
      "source": [
        "### 1) 원하는 비디오 다운로드\n",
        "\n",
        "    !wget -O [저장할 파일명] [파일 주소]"
      ],
      "metadata": {
        "id": "oG0KBwlqnR4A"
      }
    },
    {
      "cell_type": "code",
      "source": [
        "!mkdir /content/yolov3/data/videos\n",
        "!wget -O /content/yolov3/data/videos/noway.mp4 https://github.com/JeonJunWooo/YOLO-v3/raw/main/videofile/video.mp4"
      ],
      "metadata": {
        "id": "xY3_24IImbLV",
        "colab": {
          "base_uri": "https://localhost:8080/"
        },
        "outputId": "025d425e-2a2e-4301-cf33-b42f18558ca1"
      },
      "execution_count": 3,
      "outputs": [
        {
          "output_type": "stream",
          "name": "stdout",
          "text": [
            "--2022-09-22 02:47:24--  https://github.com/JeonJunWooo/YOLO-v3/raw/main/videofile/video.mp4\n",
            "Resolving github.com (github.com)... 20.205.243.166\n",
            "Connecting to github.com (github.com)|20.205.243.166|:443... connected.\n",
            "HTTP request sent, awaiting response... 302 Found\n",
            "Location: https://raw.githubusercontent.com/JeonJunWooo/YOLO-v3/main/videofile/video.mp4 [following]\n",
            "--2022-09-22 02:47:24--  https://raw.githubusercontent.com/JeonJunWooo/YOLO-v3/main/videofile/video.mp4\n",
            "Resolving raw.githubusercontent.com (raw.githubusercontent.com)... 185.199.108.133, 185.199.111.133, 185.199.109.133, ...\n",
            "Connecting to raw.githubusercontent.com (raw.githubusercontent.com)|185.199.108.133|:443... connected.\n",
            "HTTP request sent, awaiting response... 200 OK\n",
            "Length: 17492622 (17M) [application/octet-stream]\n",
            "Saving to: ‘/content/yolov3/data/videos/noway.mp4’\n",
            "\n",
            "/content/yolov3/dat 100%[===================>]  16.68M  --.-KB/s    in 0.04s   \n",
            "\n",
            "2022-09-22 02:47:26 (398 MB/s) - ‘/content/yolov3/data/videos/noway.mp4’ saved [17492622/17492622]\n",
            "\n"
          ]
        }
      ]
    },
    {
      "cell_type": "markdown",
      "source": [
        "### 2) Pretrained weights 다운로드\n",
        "\n",
        "![Pretrained weights](https://github.com/DrKAI/CV/raw/main/UltraLytics_manual/yolov3_pretrained.png)\n",
        "![Pretrained weights2](https://github.com/DrKAI/CV/raw/main/UltraLytics_manual/yolov3_pretrained2.png)\n",
        "\n",
        "[Pretrained weights Page](https://github.com/ultralytics/yolov3/releases)"
      ],
      "metadata": {
        "id": "1beFaHRDoAT5"
      }
    },
    {
      "cell_type": "code",
      "source": [
        "!mkdir /content/yolov3/pretrained"
      ],
      "metadata": {
        "id": "4T8CcI0jmbCa"
      },
      "execution_count": 4,
      "outputs": []
    },
    {
      "cell_type": "markdown",
      "source": [
        "### 3) detect.py 실행\n",
        "\n",
        "- 명령어 도움말 : python detect.py -h"
      ],
      "metadata": {
        "id": "8oPYiciurwMa"
      }
    },
    {
      "cell_type": "code",
      "source": [
        "!wget -O /content/yolov3/pretrained/yolov3.pt https://github.com/ultralytics/yolov3/releases/download/v9.6.0/yolov3.pt"
      ],
      "metadata": {
        "id": "Ac_hhT5Ql4sh"
      },
      "execution_count": null,
      "outputs": []
    },
    {
      "cell_type": "markdown",
      "source": [
        "## Detect Video 다운로드"
      ],
      "metadata": {
        "id": "Js3aCClPu4mE"
      }
    },
    {
      "cell_type": "code",
      "source": [
        "!cd yolov3; python detect.py \\\n",
        "    --weights '/content/yolov3/pretrained/yolov3.pt' \\\n",
        "    --source '/content/yolov3/data/videos/' \\\n",
        "    --project '/content/yolov3/detected' \\\n",
        "    --name 'videos' \\\n",
        "    --img 640 \\\n",
        "    --conf-thres 0.5 \\\n",
        "    --iou-thres 0.4 \\\n",
        "    --line-thickness 2 \\\n",
        "    --exist-ok \n",
        "    # --device CPU"
      ],
      "metadata": {
        "id": "uk47CW_C71hU"
      },
      "execution_count": null,
      "outputs": []
    },
    {
      "cell_type": "code",
      "source": [
        "from google.colab import files"
      ],
      "metadata": {
        "id": "IzD8PmaHFsIX"
      },
      "execution_count": 7,
      "outputs": []
    },
    {
      "cell_type": "code",
      "source": [
        "files.download(filename='/content/yolov3/detected/videos/noway.mp4')"
      ],
      "metadata": {
        "colab": {
          "base_uri": "https://localhost:8080/",
          "height": 17
        },
        "id": "IktbAje5FuT1",
        "outputId": "c4969229-bb8a-4766-83b2-0d8bb6f2c006"
      },
      "execution_count": 8,
      "outputs": [
        {
          "output_type": "display_data",
          "data": {
            "text/plain": [
              "<IPython.core.display.Javascript object>"
            ],
            "application/javascript": [
              "\n",
              "    async function download(id, filename, size) {\n",
              "      if (!google.colab.kernel.accessAllowed) {\n",
              "        return;\n",
              "      }\n",
              "      const div = document.createElement('div');\n",
              "      const label = document.createElement('label');\n",
              "      label.textContent = `Downloading \"${filename}\": `;\n",
              "      div.appendChild(label);\n",
              "      const progress = document.createElement('progress');\n",
              "      progress.max = size;\n",
              "      div.appendChild(progress);\n",
              "      document.body.appendChild(div);\n",
              "\n",
              "      const buffers = [];\n",
              "      let downloaded = 0;\n",
              "\n",
              "      const channel = await google.colab.kernel.comms.open(id);\n",
              "      // Send a message to notify the kernel that we're ready.\n",
              "      channel.send({})\n",
              "\n",
              "      for await (const message of channel.messages) {\n",
              "        // Send a message to notify the kernel that we're ready.\n",
              "        channel.send({})\n",
              "        if (message.buffers) {\n",
              "          for (const buffer of message.buffers) {\n",
              "            buffers.push(buffer);\n",
              "            downloaded += buffer.byteLength;\n",
              "            progress.value = downloaded;\n",
              "          }\n",
              "        }\n",
              "      }\n",
              "      const blob = new Blob(buffers, {type: 'application/binary'});\n",
              "      const a = document.createElement('a');\n",
              "      a.href = window.URL.createObjectURL(blob);\n",
              "      a.download = filename;\n",
              "      div.appendChild(a);\n",
              "      a.click();\n",
              "      div.remove();\n",
              "    }\n",
              "  "
            ]
          },
          "metadata": {}
        },
        {
          "output_type": "display_data",
          "data": {
            "text/plain": [
              "<IPython.core.display.Javascript object>"
            ],
            "application/javascript": [
              "download(\"download_670bc608-eb96-4446-9628-be10272b77ff\", \"noway.mp4\", 74569763)"
            ]
          },
          "metadata": {}
        }
      ]
    }
  ]
}